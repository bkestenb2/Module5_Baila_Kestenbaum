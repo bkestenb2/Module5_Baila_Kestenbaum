{
  "cells": [
    {
      "cell_type": "markdown",
      "id": "90ac47ab",
      "metadata": {
        "id": "90ac47ab"
      },
      "source": [
        "# HW: Sentinels, Nested Loops, and Input Validation (≈70 minutes)\n",
        "\n",
        "**Instructions**\n",
        "- Work in order. Each task has a time estimate to help you pace yourself.\n",
        "- Do **not** use external libraries. Keep to standard Python.\n",
        "- Wherever you see `# TODO`, fill in the code.\n",
        "- Run the test cells (where provided) to sanity‑check your work.\n",
        "- If something is unclear, add a short comment explaining your reasoning.\n",
        "\n",
        "**Learning goals**\n",
        "- Use **sentinel-controlled while loops** to gather input until the user indicates “stop.”\n",
        "- Use **try/except** and loops to **validate inputs** and **reprompt**.\n",
        "- Use **nested loops** to build tables or to loop over characters in strings."
      ]
    },
    {
      "cell_type": "markdown",
      "id": "e1f28e9a",
      "metadata": {
        "id": "e1f28e9a"
      },
      "source": [
        "---\n",
        "## ⏱️ Estimated total time: ~70 minutes\n",
        "\n",
        "- **Task 1** – Sentinel stats (15 min)  \n",
        "- **Task 2** – Choice validator (8 min)  \n",
        "- **Task 3** – Multiplication grid (12 min)  \n",
        "- **Task 4** – Vowel counter across words (15 min)  \n",
        "- **Task 5** – Mini‑gradebook (20 min)"
      ]
    },
    {
      "cell_type": "markdown",
      "id": "983a92fb",
      "metadata": {
        "id": "983a92fb"
      },
      "source": [
        "---\n",
        "## Task 1 — Sentinel stats (≈15 min)\n",
        "\n",
        "Write a program that repeatedly asks the user for **integers between 0 and 100**.  \n",
        "Use a **sentinel**: the user types `done` (any case) to finish.\n",
        "\n",
        "**Requirements**\n",
        "- Ignore blank inputs (reprompt).\n",
        "- If the user types something that's not an integer in range, print a friendly message and reprompt.\n",
        "- When the user finishes, print: **count**, **sum**, **min**, **max**, and **mean** (to 2 decimals).  using f-string : {num:.2f}\n",
        "- If no valid numbers were entered, print `\"No data.\"`\n"
      ]
    },
    {
      "cell_type": "code",
      "execution_count": 31,
      "id": "bd66cac2",
      "metadata": {
        "id": "bd66cac2",
        "colab": {
          "base_uri": "https://localhost:8080/"
        },
        "outputId": "2e35ce3a-733f-4ee9-e48e-e29e4f84a974"
      },
      "outputs": [
        {
          "output_type": "stream",
          "name": "stdout",
          "text": [
            "Enter a number between 0 - 100 or 'done' to stop: 101\n",
            "Must be a number between 1 - 100\n",
            "Enter a number between 0 - 100 or 'done' to stop: -53\n",
            "Must be a number between 1 - 100\n",
            "Enter a number between 0 - 100 or 'done' to stop: 2\n",
            "Enter a number between 0 - 100 or 'done' to stop: 4\n",
            "Enter a number between 0 - 100 or 'done' to stop: 97\n",
            "Enter a number between 0 - 100 or 'done' to stop: done\n",
            "count: 3, sum: 103, min: 2, max: 97, mean: 34.33\n"
          ]
        }
      ],
      "source": [
        "count = 0\n",
        "minimum = 0\n",
        "maximum = 0\n",
        "sum = 0\n",
        "\n",
        "while True:\n",
        "  raw = (input(\"Enter a number between 0 - 100 or 'done' to stop: \"))\n",
        "  if raw == \"done\".strip().lower():\n",
        "    break\n",
        "\n",
        "  try:\n",
        "    num = int(raw)\n",
        "    if num < 0 or num > 100:\n",
        "      print(\"Must be a number between 1 - 100\")\n",
        "      continue\n",
        "  except ValueError as e:\n",
        "    print(f\"Invalid input: {e}\")\n",
        "    continue\n",
        "\n",
        "  count += 1\n",
        "  sum += num\n",
        "\n",
        "  if minimum == 0 or num < minimum:\n",
        "    minimum = num\n",
        "  if maximum == 0 or num > maximum:\n",
        "    maximum = num\n",
        "\n",
        "if count > 0:\n",
        "  print(f\"count: {count}, sum: {sum}, min: {minimum}, max: {maximum}, mean: {sum/count:.2f}\")\n",
        "else:\n",
        "  print(\"No data.\")\n",
        "\n",
        ""
      ]
    },
    {
      "cell_type": "markdown",
      "id": "03a0f72b",
      "metadata": {
        "id": "03a0f72b"
      },
      "source": [
        "---\n",
        "## Task 2 — Choice validator (≈8 min)\n",
        "\n",
        "Write a function `get_choice(prompt, options)` that:\n",
        "- Prints the prompt and the list of options.\n",
        "- Repeatedly asks for input until the user types **exactly** one of the options (case‑insensitive).\n",
        "- Returns the **originally cased** option from the `options` list.\n",
        "\n",
        "**Example**\n",
        "```text\n",
        "Your choice (red/blue/green): Blue\n",
        "# returns \"blue\" if options = [\"red\", \"blue\", \"green\"]\n",
        "```\n",
        "\n",
        "> Hints: Build `options_lower` once, then search it each time to find the index."
      ]
    },
    {
      "cell_type": "code",
      "execution_count": 40,
      "id": "ac138b14",
      "metadata": {
        "id": "ac138b14"
      },
      "outputs": [],
      "source": [
        "def get_choice(prompt, options):\n",
        "  options_lower = [opt.lower() for opt in options]\n",
        "\n",
        "  while True:\n",
        "    choice = input(f\"{prompt} ({'/'.join(options)}): \").strip().lower()\n",
        "\n",
        "    if choice in options_lower:\n",
        "      index = options_lower.index(choice)\n",
        "      return options[index]\n",
        "    else:\n",
        "      print(\"That ain't an option\")"
      ]
    },
    {
      "cell_type": "code",
      "execution_count": 39,
      "id": "c11c898d",
      "metadata": {
        "id": "c11c898d",
        "colab": {
          "base_uri": "https://localhost:8080/"
        },
        "outputId": "8307a28d-b07e-4317-e720-0d4457cba785"
      },
      "outputs": [
        {
          "output_type": "stream",
          "name": "stdout",
          "text": [
            "Pick a color (red/blue/green): turquiose\n",
            "That ain't an option\n",
            "Pick a color (red/blue/green): pInK\n",
            "That ain't an option\n",
            "Pick a color (red/blue/green): GrEeN\n",
            "You picked: green\n"
          ]
        }
      ],
      "source": [
        "# (Quick check) Manually try:\n",
        "color = get_choice(\"Pick a color\", [\"red\",\"blue\",\"green\"])\n",
        "print(\"You picked:\", color)"
      ]
    },
    {
      "cell_type": "markdown",
      "id": "003c976f",
      "metadata": {
        "id": "003c976f"
      },
      "source": [
        "---\n",
        "## Task 3 — Multiplication grid (≈12 min)\n",
        "\n",
        "Prompt the user for two **integers** `rows` and `cols` in the range **1..10**.  \n",
        "Validate both with try/except and reprompt until valid.\n",
        "\n",
        "Then print a **rows × cols** multiplication table, where each cell shows `r*c` (1‑indexed).  \n",
        "Format with spaces so columns line up **at least** for small sizes.\n",
        "\n",
        "**Example (rows=3, cols=4)**\n",
        "```\n",
        "    1  2  3  4\n",
        " 1: 1  2  3  4\n",
        " 2: 2  4  6  8\n",
        " 3: 3  6  9 12\n",
        "```"
      ]
    },
    {
      "cell_type": "code",
      "execution_count": 48,
      "id": "db519675",
      "metadata": {
        "id": "db519675",
        "colab": {
          "base_uri": "https://localhost:8080/"
        },
        "outputId": "e5e78e67-4214-4730-86dd-fed9c97e84b3"
      },
      "outputs": [
        {
          "output_type": "stream",
          "name": "stdout",
          "text": [
            "How many rows? 9\n",
            "How many columns? 8\n",
            "  1   2   3   4   5   6   7   8 \n",
            "  2   4   6   8  10  12  14  16 \n",
            "  3   6   9  12  15  18  21  24 \n",
            "  4   8  12  16  20  24  28  32 \n",
            "  5  10  15  20  25  30  35  40 \n",
            "  6  12  18  24  30  36  42  48 \n",
            "  7  14  21  28  35  42  49  56 \n",
            "  8  16  24  32  40  48  56  64 \n",
            "  9  18  27  36  45  54  63  72 \n"
          ]
        }
      ],
      "source": [
        "while True:\n",
        "  try:\n",
        "    rows = int(input(\"How many rows? \"))\n",
        "    cols = int(input(\"How many columns? \"))\n",
        "    if (rows < 1 or rows > 10) or (cols < 1 or cols > 10):\n",
        "      print(\"Must be within 1-10 range\")\n",
        "      continue\n",
        "  except ValueError:\n",
        "    print(\"You must enter a valid number\")\n",
        "    continue\n",
        "  break\n",
        "\n",
        "for r in range(1, rows + 1):\n",
        "  for c in range(1, cols + 1):\n",
        "    print(f\"{r * c:3}\", end=\" \")\n",
        "  print()\n",
        "\n"
      ]
    },
    {
      "cell_type": "markdown",
      "id": "416bab28",
      "metadata": {
        "id": "416bab28"
      },
      "source": [
        "---\n",
        "## Task 4 — Vowel counter across words (≈15 min)\n",
        "\n",
        "Use a **sentinel** loop to read words until the user types `done`.  \n",
        "For each word, use a **nested loop** (loop over characters) to count **vowels** `a e i o u` (case‑insensitive).\n",
        "\n",
        "**Output**\n",
        "- After each word, print `\"{word}\" has {k} vowel(s)`.\n",
        "- At the end, print the **total number of vowels** across all words.\n",
        "\n",
        "> Hints: A string is looped over the way a list is.  Use `for ch in word:` to examine each character in the string; compare `ch.lower()` against a set like `{'a','e','i','o','u'}`."
      ]
    },
    {
      "cell_type": "code",
      "execution_count": 50,
      "id": "c7a96d30",
      "metadata": {
        "id": "c7a96d30",
        "colab": {
          "base_uri": "https://localhost:8080/"
        },
        "outputId": "6f1eb007-3890-48ac-ecc5-9f56ddb0785d"
      },
      "outputs": [
        {
          "output_type": "stream",
          "name": "stdout",
          "text": [
            "Enter a word or 'done': dude\n",
            "Enter a word or 'done': mood\n",
            "Enter a word or 'done': hood\n",
            "Enter a word or 'done': food\n",
            "Enter a word or 'done': rude\n",
            "Enter a word or 'done': LUte\n",
            "Enter a word or 'done': done\n",
            "Total number of vowels: 12\n"
          ]
        }
      ],
      "source": [
        "vowel_count=0\n",
        "\n",
        "while True:\n",
        "  word = input(\"Enter a word or 'done': \")\n",
        "  if word == \"done\":\n",
        "    break\n",
        "  for ch in word:\n",
        "    if ch.lower() in {'a', 'e', 'i', 'o', 'u'}:\n",
        "      vowel_count += 1\n",
        "\n",
        "print(f\"Total number of vowels: {vowel_count}\")"
      ]
    },
    {
      "cell_type": "markdown",
      "id": "98dd5563",
      "metadata": {
        "id": "98dd5563"
      },
      "source": [
        "---\n",
        "## Task 5 — Mini‑gradebook (≈20 min)\n",
        "\n",
        "Build a tiny gradebook using **both** a sentinel loop and a nested loop.\n",
        "\n",
        "**Requirements**\n",
        "1. Repeatedly ask for a **student name** until the user types `done` (sentinel).  \n",
        "   - Ignore blank names.\n",
        "2. For each student, read exactly **3 scores** (0..100, integers).  \n",
        "   - Use input validation with try/except; reprompt on bad input.\n",
        "3. Store each student's average in a dictionary `grades[name] = avg`.\n",
        "4. After input ends, print a **simple report** sorted by name:\n",
        "   ```\n",
        "   Alice : 88.00\n",
        "   Bob   : 92.33\n",
        "   ```\n",
        "\n",
        "**Stretch (optional)**  \n",
        "- Also print the **class average**."
      ]
    },
    {
      "cell_type": "code",
      "source": [
        "grades = {}\n",
        "\n",
        "while True:\n",
        "    name = input(\"Enter students name or 'done': \")\n",
        "    if name == \"\":\n",
        "        continue\n",
        "    if name.lower() == \"done\":\n",
        "        break\n",
        "\n",
        "    scores = []\n",
        "    for i in range(3):\n",
        "        while True:\n",
        "            try:\n",
        "                score = int(input(f\"Enter score #{i+1} (0-100): \"))\n",
        "                if 0 <= score <= 100:\n",
        "                  scores.append(score)\n",
        "                  break\n",
        "                else:\n",
        "                  print(\"Score must be between 0 and 100.\")\n",
        "            except ValueError:\n",
        "                print(\"Invalid input, please enter an integer.\")\n",
        "\n",
        "    avg = __builtins__.sum(scores) / len(scores)\n",
        "    grades[name] = avg\n",
        "\n",
        "for name, avg in grades.items():\n",
        "  print(f\"{name} : {avg:.2f}\")"
      ],
      "metadata": {
        "colab": {
          "base_uri": "https://localhost:8080/"
        },
        "id": "AwHZGBqBGCDF",
        "outputId": "0b1c94d1-ba12-4200-ce99-3ab6f211365e"
      },
      "id": "AwHZGBqBGCDF",
      "execution_count": 69,
      "outputs": [
        {
          "output_type": "stream",
          "name": "stdout",
          "text": [
            "Enter students name or 'done': mom\n",
            "Enter score #1 (0-100): 99\n",
            "Enter score #2 (0-100): 88\n",
            "Enter score #3 (0-100): -10\n",
            "Score must be between 0 and 100.\n",
            "Enter score #3 (0-100): 77\n",
            "Enter students name or 'done': dad\n",
            "Enter score #1 (0-100): 77\n",
            "Enter score #2 (0-100): 66\n",
            "Enter score #3 (0-100): 100\n",
            "Enter students name or 'done': Baila\n",
            "Enter score #1 (0-100): 10000\n",
            "Score must be between 0 and 100.\n",
            "Enter score #1 (0-100): 100\n",
            "Enter score #2 (0-100): 100\n",
            "Enter score #3 (0-100): 99\n",
            "Enter students name or 'done': done\n",
            "mom : 88.00\n",
            "dad : 81.00\n",
            "Baila : 99.67\n"
          ]
        }
      ]
    },
    {
      "cell_type": "markdown",
      "id": "0d1a8cf7",
      "metadata": {
        "id": "0d1a8cf7"
      },
      "source": [
        "---\n",
        "### ✅ Submission checklist\n",
        "\n",
        "- [ ] Notebook runs top‑to‑bottom without errors\n",
        "- [ ] Brief comments added where logic might be unclear\n",
        "- [ ] Push this notebook to your GitHub as part of your assignment submission, submit link to Canvas"
      ]
    }
  ],
  "metadata": {
    "colab": {
      "provenance": []
    },
    "language_info": {
      "name": "python"
    },
    "kernelspec": {
      "name": "python3",
      "display_name": "Python 3"
    }
  },
  "nbformat": 4,
  "nbformat_minor": 5
}